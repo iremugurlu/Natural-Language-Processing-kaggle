{
 "cells": [
  {
   "cell_type": "markdown",
   "metadata": {
    "papermill": {
     "duration": 0.012504,
     "end_time": "2020-10-01T00:25:16.907503",
     "exception": false,
     "start_time": "2020-10-01T00:25:16.894999",
     "status": "completed"
    },
    "tags": []
   },
   "source": [
    "# Word Embeddings\n",
    "\n",
    "You know at this point that machine learning on text requires that you first represent the text numerically. So far, you've done this with bag of words representations. But you can usually do better with word embeddings.\n",
    "\n",
    "**Word embeddings** (also called word vectors) represent each word numerically in such a way that the vector corresponds to how that word is used or what it means. Vector encodings are learned by considering the context in which the words appear. Words that appear in similar contexts will have similar vectors. For example, vectors for \"leopard\", \"lion\", and \"tiger\" will be close together, while they'll be far away from \"planet\" and \"castle\".\n",
    "\n",
    "Even cooler, relations between words can be examined with mathematical operations. Subtracting the vectors for \"man\" and \"woman\" will return another vector. If you add that to the vector for \"king\" the result is close to the vector for \"queen.\"\n",
    "\n",
    "![Word vector examples](https://www.tensorflow.org/images/linear-relationships.png)\n",
    "\n",
    "These vectors can be used as features for machine learning models. Word vectors will typically improve the performance of your models above bag of words encoding. spaCy provides embeddings learned from a model called Word2Vec. You can access them by loading a large language model like `en_core_web_lg`. Then they will be available on tokens from the `.vector` attribute."
   ]
  },
  {
   "cell_type": "code",
   "execution_count": 1,
   "metadata": {
    "execution": {
     "iopub.execute_input": "2020-10-01T00:25:16.936539Z",
     "iopub.status.busy": "2020-10-01T00:25:16.935732Z",
     "iopub.status.idle": "2020-10-01T00:25:27.940653Z",
     "shell.execute_reply": "2020-10-01T00:25:27.939939Z"
    },
    "papermill": {
     "duration": 11.021624,
     "end_time": "2020-10-01T00:25:27.940781",
     "exception": false,
     "start_time": "2020-10-01T00:25:16.919157",
     "status": "completed"
    },
    "tags": []
   },
   "outputs": [],
   "source": [
    "import numpy as np\n",
    "import spacy\n",
    "\n",
    "# Need to load the large model to get the vectors\n",
    "nlp = spacy.load('en_core_web_lg')"
   ]
  },
  {
   "cell_type": "code",
   "execution_count": 2,
   "metadata": {
    "execution": {
     "iopub.execute_input": "2020-10-01T00:25:27.972796Z",
     "iopub.status.busy": "2020-10-01T00:25:27.971906Z",
     "iopub.status.idle": "2020-10-01T00:25:28.002466Z",
     "shell.execute_reply": "2020-10-01T00:25:28.001646Z"
    },
    "papermill": {
     "duration": 0.050006,
     "end_time": "2020-10-01T00:25:28.002594",
     "exception": false,
     "start_time": "2020-10-01T00:25:27.952588",
     "status": "completed"
    },
    "tags": []
   },
   "outputs": [],
   "source": [
    "# Disabling other pipes because we don't need them and it'll speed up this part a bit\n",
    "text = \"These vectors can be used as features for machine learning models.\"\n",
    "with nlp.disable_pipes():\n",
    "    vectors = np.array([token.vector for token in  nlp(text)])"
   ]
  },
  {
   "cell_type": "code",
   "execution_count": 3,
   "metadata": {
    "execution": {
     "iopub.execute_input": "2020-10-01T00:25:28.033843Z",
     "iopub.status.busy": "2020-10-01T00:25:28.032752Z",
     "iopub.status.idle": "2020-10-01T00:25:28.036935Z",
     "shell.execute_reply": "2020-10-01T00:25:28.037523Z"
    },
    "papermill": {
     "duration": 0.023318,
     "end_time": "2020-10-01T00:25:28.037671",
     "exception": false,
     "start_time": "2020-10-01T00:25:28.014353",
     "status": "completed"
    },
    "tags": []
   },
   "outputs": [
    {
     "data": {
      "text/plain": [
       "(12, 300)"
      ]
     },
     "execution_count": 3,
     "metadata": {},
     "output_type": "execute_result"
    }
   ],
   "source": [
    "vectors.shape"
   ]
  },
  {
   "cell_type": "markdown",
   "metadata": {
    "papermill": {
     "duration": 0.011787,
     "end_time": "2020-10-01T00:25:28.062095",
     "exception": false,
     "start_time": "2020-10-01T00:25:28.050308",
     "status": "completed"
    },
    "tags": []
   },
   "source": [
    "These are 300-dimensional vectors, with one vector for each word. However, we only have document-level labels and our models won't be able to use the word-level embeddings. So, you need a vector representation for the entire document. \n",
    "\n",
    "There are many ways to combine all the word vectors into a single document vector we can use for model training. A simple and surprisingly effective approach is simply averaging the vectors for each word in the document. Then, you can use these document vectors for modeling.\n",
    "\n",
    "spaCy calculates the average document vector which you can get with `doc.vector`. Here is an example loading the spam data and converting it to document vectors."
   ]
  },
  {
   "cell_type": "code",
   "execution_count": 4,
   "metadata": {
    "execution": {
     "iopub.execute_input": "2020-10-01T00:25:28.097303Z",
     "iopub.status.busy": "2020-10-01T00:25:28.096502Z",
     "iopub.status.idle": "2020-10-01T00:26:35.208463Z",
     "shell.execute_reply": "2020-10-01T00:26:35.209052Z"
    },
    "papermill": {
     "duration": 67.134851,
     "end_time": "2020-10-01T00:26:35.209239",
     "exception": false,
     "start_time": "2020-10-01T00:25:28.074388",
     "status": "completed"
    },
    "tags": []
   },
   "outputs": [
    {
     "data": {
      "text/plain": [
       "(5572, 300)"
      ]
     },
     "execution_count": 4,
     "metadata": {},
     "output_type": "execute_result"
    }
   ],
   "source": [
    "import pandas as pd\n",
    "\n",
    "# Loading the spam data\n",
    "# ham is the label for non-spam messages\n",
    "spam = pd.read_csv('../input/nlp-course/spam.csv')\n",
    "\n",
    "with nlp.disable_pipes():\n",
    "    doc_vectors = np.array([nlp(text).vector for text in spam.text])\n",
    "    \n",
    "doc_vectors.shape"
   ]
  },
  {
   "cell_type": "markdown",
   "metadata": {
    "papermill": {
     "duration": 0.012492,
     "end_time": "2020-10-01T00:26:35.234548",
     "exception": false,
     "start_time": "2020-10-01T00:26:35.222056",
     "status": "completed"
    },
    "tags": []
   },
   "source": [
    "## Classification Models\n",
    "\n",
    "With the document vectors, you can train scikit-learn models, xgboost models, or any other standard approach to modeling."
   ]
  },
  {
   "cell_type": "code",
   "execution_count": 5,
   "metadata": {
    "execution": {
     "iopub.execute_input": "2020-10-01T00:26:35.266709Z",
     "iopub.status.busy": "2020-10-01T00:26:35.265908Z",
     "iopub.status.idle": "2020-10-01T00:26:36.371247Z",
     "shell.execute_reply": "2020-10-01T00:26:36.370436Z"
    },
    "papermill": {
     "duration": 1.124044,
     "end_time": "2020-10-01T00:26:36.371374",
     "exception": false,
     "start_time": "2020-10-01T00:26:35.247330",
     "status": "completed"
    },
    "tags": []
   },
   "outputs": [],
   "source": [
    "from sklearn.model_selection import train_test_split\n",
    "\n",
    "X_train, X_test, y_train, y_test = train_test_split(doc_vectors, spam.label,\n",
    "                                                    test_size=0.1, random_state=1)"
   ]
  },
  {
   "cell_type": "markdown",
   "metadata": {
    "papermill": {
     "duration": 0.012763,
     "end_time": "2020-10-01T00:26:36.397316",
     "exception": false,
     "start_time": "2020-10-01T00:26:36.384553",
     "status": "completed"
    },
    "tags": []
   },
   "source": [
    "Here is an example using [support vector machines (SVMs)](https://scikit-learn.org/stable/modules/svm.html#svm). Scikit-learn provides an SVM classifier `LinearSVC`. This works similar to other scikit-learn models."
   ]
  },
  {
   "cell_type": "code",
   "execution_count": 6,
   "metadata": {
    "execution": {
     "iopub.execute_input": "2020-10-01T00:26:36.430247Z",
     "iopub.status.busy": "2020-10-01T00:26:36.429442Z",
     "iopub.status.idle": "2020-10-01T00:26:36.868444Z",
     "shell.execute_reply": "2020-10-01T00:26:36.867702Z"
    },
    "papermill": {
     "duration": 0.458266,
     "end_time": "2020-10-01T00:26:36.868584",
     "exception": false,
     "start_time": "2020-10-01T00:26:36.410318",
     "status": "completed"
    },
    "tags": []
   },
   "outputs": [
    {
     "name": "stdout",
     "output_type": "stream",
     "text": [
      "Accuracy: 97.312%\n"
     ]
    }
   ],
   "source": [
    "from sklearn.svm import LinearSVC\n",
    "\n",
    "# Set dual=False to speed up training, and it's not needed\n",
    "svc = LinearSVC(random_state=1, dual=False, max_iter=10000)\n",
    "svc.fit(X_train, y_train)\n",
    "print(f\"Accuracy: {svc.score(X_test, y_test) * 100:.3f}%\", )"
   ]
  },
  {
   "cell_type": "markdown",
   "metadata": {
    "papermill": {
     "duration": 0.014715,
     "end_time": "2020-10-01T00:26:36.899471",
     "exception": false,
     "start_time": "2020-10-01T00:26:36.884756",
     "status": "completed"
    },
    "tags": []
   },
   "source": [
    "## Document Similarity\n",
    "\n",
    "Documents with similar content generally have similar vectors. So you can find similar documents by measuring the similarity between the vectors. A common metric for this is the **cosine similarity** which measures the angle between two vectors, $\\mathbf{a}$ and $\\mathbf{b}$.\n",
    "\n",
    "$$\n",
    "\\cos \\theta = \\frac{\\mathbf{a}\\cdot\\mathbf{b}}{\\| \\mathbf{a} \\| \\, \\| \\mathbf{b} \\|}\n",
    "$$\n",
    "\n",
    "This is the dot product of $\\mathbf{a}$ and $\\mathbf{b}$, divided by the magnitudes of each vector. The cosine similarity can vary between -1 and 1, corresponding complete opposite to perfect similarity, respectively. To calculate it, you can use [the metric from scikit-learn](https://scikit-learn.org/stable/modules/generated/sklearn.metrics.pairwise.cosine_similarity.html) or write your own function."
   ]
  },
  {
   "cell_type": "code",
   "execution_count": 7,
   "metadata": {
    "execution": {
     "iopub.execute_input": "2020-10-01T00:26:36.935769Z",
     "iopub.status.busy": "2020-10-01T00:26:36.934990Z",
     "iopub.status.idle": "2020-10-01T00:26:36.938481Z",
     "shell.execute_reply": "2020-10-01T00:26:36.937885Z"
    },
    "papermill": {
     "duration": 0.023738,
     "end_time": "2020-10-01T00:26:36.938609",
     "exception": false,
     "start_time": "2020-10-01T00:26:36.914871",
     "status": "completed"
    },
    "tags": []
   },
   "outputs": [],
   "source": [
    "def cosine_similarity(a, b):\n",
    "    return a.dot(b)/np.sqrt(a.dot(a) * b.dot(b))"
   ]
  },
  {
   "cell_type": "code",
   "execution_count": 8,
   "metadata": {
    "execution": {
     "iopub.execute_input": "2020-10-01T00:26:36.973267Z",
     "iopub.status.busy": "2020-10-01T00:26:36.972351Z",
     "iopub.status.idle": "2020-10-01T00:26:37.003913Z",
     "shell.execute_reply": "2020-10-01T00:26:37.003292Z"
    },
    "papermill": {
     "duration": 0.051604,
     "end_time": "2020-10-01T00:26:37.004035",
     "exception": false,
     "start_time": "2020-10-01T00:26:36.952431",
     "status": "completed"
    },
    "tags": []
   },
   "outputs": [
    {
     "data": {
      "text/plain": [
       "0.7030031"
      ]
     },
     "execution_count": 8,
     "metadata": {},
     "output_type": "execute_result"
    }
   ],
   "source": [
    "a = nlp(\"REPLY NOW FOR FREE TEA\").vector\n",
    "b = nlp(\"According to legend, Emperor Shen Nung discovered tea when leaves from a wild tree blew into his pot of boiling water.\").vector\n",
    "cosine_similarity(a, b)"
   ]
  },
  {
   "cell_type": "markdown",
   "metadata": {
    "papermill": {
     "duration": 0.014004,
     "end_time": "2020-10-01T00:26:37.032411",
     "exception": false,
     "start_time": "2020-10-01T00:26:37.018407",
     "status": "completed"
    },
    "tags": []
   },
   "source": [
    "# Your Turn\n",
    "Word embeddings are incredibly powerful. You know know enough to apply embeddings to **[improve your models and find similar documents](https://www.kaggle.com/kernels/fork/6061026)**."
   ]
  },
  {
   "cell_type": "markdown",
   "metadata": {
    "papermill": {
     "duration": 0.014031,
     "end_time": "2020-10-01T00:26:37.060879",
     "exception": false,
     "start_time": "2020-10-01T00:26:37.046848",
     "status": "completed"
    },
    "tags": []
   },
   "source": [
    "---\n",
    "\n",
    "\n",
    "\n",
    "\n",
    "*Have questions or comments? Visit the [Learn Discussion forum](https://www.kaggle.com/learn-forum/161466) to chat with other Learners.*"
   ]
  }
 ],
 "metadata": {
  "kernelspec": {
   "display_name": "Python 3",
   "language": "python",
   "name": "python3"
  },
  "language_info": {
   "codemirror_mode": {
    "name": "ipython",
    "version": 3
   },
   "file_extension": ".py",
   "mimetype": "text/x-python",
   "name": "python",
   "nbconvert_exporter": "python",
   "pygments_lexer": "ipython3",
   "version": "3.7.6"
  },
  "papermill": {
   "duration": 85.60487,
   "end_time": "2020-10-01T00:26:37.184375",
   "environment_variables": {},
   "exception": null,
   "input_path": "__notebook__.ipynb",
   "output_path": "__notebook__.ipynb",
   "parameters": {},
   "start_time": "2020-10-01T00:25:11.579505",
   "version": "2.1.0"
  }
 },
 "nbformat": 4,
 "nbformat_minor": 4
}
